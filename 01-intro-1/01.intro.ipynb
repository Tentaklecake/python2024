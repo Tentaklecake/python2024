{
 "cells": [
  {
   "cell_type": "markdown",
   "metadata": {},
   "source": [
    "# Python - базовый курс\n",
    "\n",
    "----"
   ]
  },
  {
   "cell_type": "markdown",
   "metadata": {},
   "source": [
    "## Введение\n",
    "\n",
    "**Python** (питон, пайтон) - один из самых популярных и используемых языков программирования.  \n",
    "В рейтинге PYPL находится на первом месте https://pypl.github.io/PYPL.html\n",
    "\n",
    "Области применения:\n",
    "- data science / machine learning\n",
    "- web-разработка\n",
    "- gamedev\n",
    "- автоматизация\n",
    "- обучение\n",
    "\n",
    "----"
   ]
  },
  {
   "cell_type": "markdown",
   "metadata": {},
   "source": [
    "## Зачем python сетевому инженеру\n",
    "\n",
    "- автоматизация и помощь в рутинных задачах\n",
    "- взаимодействие с оборудование по API\n",
    "- генерация и валидация конфигураций\n",
    "- тестирование\n",
    "- служебные микросервисы\n",
    "\n",
    "----"
   ]
  },
  {
   "cell_type": "markdown",
   "metadata": {},
   "source": [
    "## Плюсы и минусы python\n",
    "\n",
    "### Плюсы\n",
    "\n",
    "- простой и понятный синтаксис\n",
    "- достаточно низкий порог входа\n",
    "- кросплатформенность\n",
    "- широкое распространение и большое комьюнити\n",
    "- мощный функционал\n",
    "- огромное число готовых библиотек и модулей под любые цели\n",
    "- включен в школьную программу\n",
    "\n",
    "### Минусы\n",
    "- скорость выполнения программ\n",
    "- сложность\n",
    "- GIL (Global Interpreter Lock)\n",
    "\n",
    "----"
   ]
  },
  {
   "cell_type": "markdown",
   "metadata": {},
   "source": [
    "## Темы курса\n",
    "\n",
    "- Подготовка к работе (установка python, IDE)\n",
    "- Основы GIT\n",
    "- Типы данных (числа, строки, словари) и типизация\n",
    "- Переиспользование кода (циклы/условия, функции, модули, пакеты)\n",
    "- Работа с файлами\n",
    "- Регулярные выражения\n",
    "- Работа с шаблонами (Jinja2, TextFSM)\n",
    "- Подключение к сетевому оборудованию (paramiko, netmiko, scrapli)\n",
    "- Основы ООП\n",
    "- Паттерны проектирования (декоратор, singleton, фабрика, итератор)\n",
    "- Асинхронный код\n",
    "- Полезные библиотеки (FastAPI, Redis, Scapy)\n",
    "- Основы pytest\n",
    "\n",
    "---"
   ]
  },
  {
   "cell_type": "markdown",
   "metadata": {},
   "source": [
    "## Домашнее задание\n",
    "\n",
    "- После каждой темы (почти)\n",
    "- Один (?) \"большой\" проект\n",
    "- Использование github для проверки домашнего задания\n",
    "\n",
    "---"
   ]
  },
  {
   "cell_type": "markdown",
   "metadata": {},
   "source": [
    "## Самостоятельное изучение\n",
    "\n",
    "### Книги\n",
    "\n",
    "- Программируем на Python | Доусон Майкл  \n",
    "<img src=\"covers/book1.webp\" width=\"250\">  \n",
    "\n",
    "- Автоматизация рутинных задач с помощью Python | Эл Свейгарт  \n",
    "<img src=\"covers/book2.webp\" width=\"250\">  \n",
    "\n",
    "- Чистый Python | Дэн Бейдер  \n",
    "<img src=\"covers/book3.webp\" width=\"250\">  \n",
    "\n",
    "- [Python для сетевых инженеров](https://pyneng.readthedocs.io/ru/latest/) | Наташа Самойленко  \n",
    "<img src=\"covers/book4.jpeg\" width=\"250\">  \n",
    "\n",
    "- Python для сетевых инженеров | Эрик Чоу  \n",
    "<img src=\"covers/book5.webp\" width=\"250\">  \n",
    "\n",
    "### Практика\n",
    "\n",
    "- [codewars](https://www.codewars.com/)\n",
    "- [leetcode](https://leetcode.com)\n",
    "- [adventofcode](https://adventofcode.com)\n",
    "- [поколение python (stepik)](https://stepik.org/course/58852/)\n",
    "\n",
    "### Видео\n",
    "- [Тимофей Хирьянов](https://www.youtube.com/@tkhirianov)\n",
    "- [Python для сетевых инженеров (Наташа Самойленко)](https://www.youtube.com/playlist?list=PLah0HUih_ZRljCWNZp2N-YBVkgxiJZWEY)\n",
    "\n",
    "### WEB\n",
    "- [real python](https://realpython.com)\n",
    "- [proglib](https://proglib.io/)\n",
    "- [тренажер stepik](https://stepik.org/course/431/info)\n",
    "- [yandex контекст](https://contest.yandex.ru)\n",
    "---"
   ]
  }
 ],
 "metadata": {
  "kernelspec": {
   "display_name": "venv",
   "language": "python",
   "name": "python3"
  },
  "language_info": {
   "codemirror_mode": {
    "name": "ipython",
    "version": 3
   },
   "file_extension": ".py",
   "mimetype": "text/x-python",
   "name": "python",
   "nbconvert_exporter": "python",
   "pygments_lexer": "ipython3",
   "version": "3.10.11"
  }
 },
 "nbformat": 4,
 "nbformat_minor": 2
}
