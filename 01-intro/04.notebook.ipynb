{
 "cells": [
  {
   "cell_type": "markdown",
   "metadata": {},
   "source": [
    "# Jupyter notebooks\n",
    "\n",
    "jupyter notebooks используется вместо презентаций. Тут будет немного материала + базовые примеры кода.  \n",
    "MD ячейки сочетаются с ячейками кода."
   ]
  },
  {
   "cell_type": "code",
   "execution_count": 4,
   "metadata": {},
   "outputs": [
    {
     "name": "stdout",
     "output_type": "stream",
     "text": [
      "code from notebook\n"
     ]
    }
   ],
   "source": [
    "print(\"code from notebook\")"
   ]
  },
  {
   "cell_type": "markdown",
   "metadata": {},
   "source": [
    "## Списк (list)"
   ]
  },
  {
   "cell_type": "markdown",
   "metadata": {},
   "source": [
    "list это **упорядоченная** и **изменяемая** последовательность набор объектов. Основные свойства:\n",
    "\n",
    "- упорядоченность\n",
    "- изменяемость\n",
    "- нумерация элеметов начинается с 0\n",
    "- объекты могут быть разного типа\n",
    "\n",
    "Возможные способы создания:\n",
    "- явное указание\n",
    "- обработка итерируемого объекта командой `list`:\n",
    "- генераторы списков (list comprehension):"
   ]
  },
  {
   "cell_type": "code",
   "execution_count": 22,
   "metadata": {},
   "outputs": [
    {
     "name": "stdout",
     "output_type": "stream",
     "text": [
      "[1, 2, 'some text', 4.2]\n",
      "['h', 'e', 'l', 'l', 'o']\n",
      "[2, 4, 6, 8]\n"
     ]
    }
   ],
   "source": [
    "mixed_list = [1, 2, \"some text\", 4.2]\n",
    "list_from_iter = list(\"hello\")\n",
    "list_comp = [i for i in range(1, 10) if i % 2 == 0]\n",
    "\n",
    "print(mixed_list)\n",
    "print(list_from_iter)\n",
    "print(list_comp)"
   ]
  },
  {
   "cell_type": "markdown",
   "metadata": {},
   "source": [
    "## Другой раздел"
   ]
  },
  {
   "cell_type": "markdown",
   "metadata": {},
   "source": [
    "Пример гибкости семантики python:"
   ]
  },
  {
   "cell_type": "code",
   "execution_count": 6,
   "metadata": {},
   "outputs": [
    {
     "name": "stdout",
     "output_type": "stream",
     "text": [
      "✅\n",
      "❌\n"
     ]
    }
   ],
   "source": [
    "class Foo:\n",
    "    def __neg__(self) -> str:\n",
    "        return \"\\u274c\"\n",
    "\n",
    "    def __str__(self) -> str:\n",
    "        return \"\\u2705\"\n",
    "\n",
    "\n",
    "f = Foo()\n",
    "\n",
    "print(f)\n",
    "print(-f)"
   ]
  }
 ],
 "metadata": {
  "kernelspec": {
   "display_name": "venv",
   "language": "python",
   "name": "python3"
  },
  "language_info": {
   "codemirror_mode": {
    "name": "ipython",
    "version": 3
   },
   "file_extension": ".py",
   "mimetype": "text/x-python",
   "name": "python",
   "nbconvert_exporter": "python",
   "pygments_lexer": "ipython3",
   "version": "3.12.2"
  }
 },
 "nbformat": 4,
 "nbformat_minor": 2
}
